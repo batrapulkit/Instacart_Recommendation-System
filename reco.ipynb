{
 "cells": [
  {
   "cell_type": "markdown",
   "metadata": {
    "id": "DUmmVxA2M9fn"
   },
   "source": [
    "## Report on Task Completion\n",
    "\n",
    "---\n",
    "\n",
    "### Task: Build and Evaluate Recommender System (Assignment-2)\n",
    "\n",
    "| **Task Description** | **Actions Taken** | **Output/Results** | **Next Steps** |\n",
    "|-----------------------|-------------------|---------------------|----------------|\n",
    "| **Build a collaborative filtering recommender system for `add_to_cart_order < 5` (Model 3)** | - Loaded datasets (`orders`, `products`, `order_products`, etc.). <br> - Filtered data to include only `add_to_cart_order < 5`. <br> - Created a user-product interaction matrix. <br> - Applied Truncated SVD to reduce dimensions. <br> - Reconstructed user-product interaction scores for recommendations. | Successfully built a collaborative filtering model using matrix factorization (SVD). <br> Generated reconstructed user-product interaction matrix for predicting product recommendations. | Use PySpark's ALS implementation for scalability on larger datasets. <br> Explore additional hyperparameter tuning for SVD. |\n",
    "| **Evaluate all models on MAP@5 and Recall for 1000 random users/user,dow combinations using strong/weak generalization and rolling cross-validation** | - Randomly sampled 1000 user and `order_dow` combinations. <br> - Implemented strong and weak generalization with rolling cross-validation based on `order_id`. <br> - Evaluated using MAP@5 and Recall@5. | - **MAP@5**: Successfully calculated across sampled combinations. <br> - **Recall@5**: Evaluated strong generalization (for unseen data) and weak generalization (for familiar data). | Improve MAP@5 and Recall@5 by experimenting with alternate models like ALS or neural collaborative filtering. |\n",
    "| **Identify the top product recommended for top 5 users who buy the most \"Bananas\"** | - Filtered the dataset to identify users who purchased \"Bananas.\" <br> - Counted purchases and identified top 5 banana buyers. <br> - Generated top 5 product recommendations for these users using the reconstructed interaction matrix. | Successfully recommended top 5 products for the top 5 banana buyers. | Validate if recommended products align with banana buyer preferences and extend to other popular products. |\n",
    "| **Plot and Analyze Top Products** | - Visualized the top 10 most purchased products using bar plots. | Visualizations successfully generated for top purchased products, providing insights into frequently bought items. | Use these insights to customize recommendations further, e.g., group users by purchase behavior. |\n",
    "| **General Recommendations** | - Implemented recommendation logic using reconstructed user-product interaction matrix. <br> - Created functions for user-specific recommendations. | Example: Top 5 products recommended for `user_id=15`. | Integrate recommendations with a scalable PySpark pipeline for deployment on a cluster. |\n",
    "\n",
    "---\n"
   ]
  },
  {
   "cell_type": "code",
   "execution_count": 1,
   "metadata": {
    "id": "K16EyhkcLtoV",
    "outputId": "dc7087a8-3a5c-46d9-9c83-ebbb47c70fbc"
   },
   "outputs": [],
   "source": [
    "import pandas as pd\n",
    "import numpy as np\n",
    "from scipy.sparse import csr_matrix\n",
    "from sklearn.decomposition import TruncatedSVD\n",
    "# Loading the data into pandas DataFrames\n",
    "order_products = pd.read_csv('order_products.csv')\n",
    "orders = pd.read_csv('orders.csv')\n",
    "products = pd.read_csv('products.csv')\n"
   ]
  },
  {
   "cell_type": "code",
   "execution_count": 2,
   "metadata": {},
   "outputs": [
    {
     "name": "stdout",
     "output_type": "stream",
     "text": [
      "\n",
      "Order Products DataFrame:\n",
      "   order_id  product_id  add_to_cart_order  reordered\n",
      "0         2       33120                  1          1\n",
      "1         2       28985                  2          1\n",
      "2         2        9327                  3          0\n",
      "3         2       45918                  4          1\n",
      "4         2       30035                  5          0\n",
      "\n",
      "Orders DataFrame:\n",
      "   order_id  user_id eval_set  order_number  order_dow  order_hour_of_day  \\\n",
      "0   2539329        1    prior             1          2                  8   \n",
      "1   2398795        1    prior             2          3                  7   \n",
      "2    473747        1    prior             3          3                 12   \n",
      "3   2254736        1    prior             4          4                  7   \n",
      "4    431534        1    prior             5          4                 15   \n",
      "\n",
      "   days_since_prior_order  \n",
      "0                     NaN  \n",
      "1                    15.0  \n",
      "2                    21.0  \n",
      "3                    29.0  \n",
      "4                    28.0  \n",
      "\n",
      "Products DataFrame:\n",
      "   product_id                                       product_name  aisle_id  \\\n",
      "0           1                         Chocolate Sandwich Cookies        61   \n",
      "1           2                                   All-Seasons Salt       104   \n",
      "2           3               Robust Golden Unsweetened Oolong Tea        94   \n",
      "3           4  Smart Ones Classic Favorites Mini Rigatoni Wit...        38   \n",
      "4           5                          Green Chile Anytime Sauce         5   \n",
      "\n",
      "   department_id  \n",
      "0             19  \n",
      "1             13  \n",
      "2              7  \n",
      "3              1  \n",
      "4             13  \n"
     ]
    }
   ],
   "source": [
    "\n",
    "# Display the first few rows of each DataFrame to confirm the data is loaded correctly\n",
    "print(\"\\nOrder Products DataFrame:\")\n",
    "print(order_products.head())\n",
    "print(\"\\nOrders DataFrame:\")\n",
    "print(orders.head())\n",
    "print(\"\\nProducts DataFrame:\")\n",
    "print(products.head())\n"
   ]
  },
  {
   "cell_type": "code",
   "execution_count": 3,
   "metadata": {},
   "outputs": [
    {
     "name": "stdout",
     "output_type": "stream",
     "text": [
      "   order_id  product_id  add_to_cart_order  reordered  user_id eval_set  \\\n",
      "0         2       33120                  1          1   202279    prior   \n",
      "1         2       28985                  2          1   202279    prior   \n",
      "2         2        9327                  3          0   202279    prior   \n",
      "3         2       45918                  4          1   202279    prior   \n",
      "4         2       30035                  5          0   202279    prior   \n",
      "\n",
      "   order_number  order_dow  order_hour_of_day  days_since_prior_order  \\\n",
      "0             3          5                  9                     8.0   \n",
      "1             3          5                  9                     8.0   \n",
      "2             3          5                  9                     8.0   \n",
      "3             3          5                  9                     8.0   \n",
      "4             3          5                  9                     8.0   \n",
      "\n",
      "            product_name  aisle_id  department_id  \n",
      "0     Organic Egg Whites        86             16  \n",
      "1  Michigan Organic Kale        83              4  \n",
      "2          Garlic Powder       104             13  \n",
      "3         Coconut Butter        19             13  \n",
      "4      Natural Sweetener        17             13  \n"
     ]
    }
   ],
   "source": [
    "\n",
    "# Merging the order_products data with orders to get user and day of the week information\n",
    "merged_df = pd.merge(order_products, orders, on='order_id', how='left')\n",
    "\n",
    "# Now merge with products to get product details (optional)\n",
    "merged_df = pd.merge(merged_df, products, on='product_id', how='left')\n",
    "\n",
    "# Display the merged DataFrame\n",
    "print(merged_df.head())\n"
   ]
  },
  {
   "cell_type": "code",
   "execution_count": 4,
   "metadata": {},
   "outputs": [],
   "source": [
    "\n",
    "# Correctly use the file path variable\n",
    "order_products_file = \"order_products.csv\"  # Ensure this is the file path as a string\n",
    "\n",
    "# Chunked processing\n",
    "filtered_data_list = []\n",
    "chunk_size = 10_000\n",
    "\n",
    "# Read the CSV file in chunks\n",
    "for chunk in pd.read_csv(order_products_file, chunksize=chunk_size):\n",
    "    # Filter add_to_cart_order < 5\n",
    "    chunk = chunk[chunk[\"add_to_cart_order\"] < 5]\n",
    "    filtered_data_list.append(chunk)\n"
   ]
  },
  {
   "cell_type": "code",
   "execution_count": 5,
   "metadata": {},
   "outputs": [],
   "source": [
    "\n",
    "# Combine the filtered chunks\n",
    "filtered_data = pd.concat(filtered_data_list, ignore_index=True)\n",
    "\n",
    "merged_data = pd.merge(order_products, orders, on=\"order_id\", how=\"inner\")\n"
   ]
  },
  {
   "cell_type": "code",
   "execution_count": 6,
   "metadata": {},
   "outputs": [
    {
     "name": "stdout",
     "output_type": "stream",
     "text": [
      "Shape of interaction_data: (3243449, 10)\n",
      "          order_id  user_id eval_set  order_number  order_dow  \\\n",
      "29481110   2195678   187247    prior             3          0   \n",
      "2852353    2061842    18224    prior             6          4   \n",
      "11194500   3035301    70922    prior            40          4   \n",
      "15909397   2906688   100634    prior             8          3   \n",
      "6101870    1610629    38843    prior             1          6   \n",
      "\n",
      "          order_hour_of_day  days_since_prior_order  product_id  \\\n",
      "29481110                 17                     7.0       22969   \n",
      "2852353                  22                     5.0        9387   \n",
      "11194500                 15                     1.0       18370   \n",
      "15909397                 17                     6.0       44142   \n",
      "6101870                  15                     NaN       44949   \n",
      "\n",
      "          add_to_cart_order  reordered  \n",
      "29481110                 14          1  \n",
      "2852353                  14          1  \n",
      "11194500                  9          1  \n",
      "15909397                  8          0  \n",
      "6101870                  19          0  \n",
      "User ID range: 1 to 206209\n",
      "Product ID range: 1 to 49688\n"
     ]
    }
   ],
   "source": [
    "\n",
    "# For example, assuming 'orders' and 'order_products' hold the data for interactions\n",
    "interaction_data = pd.merge(orders, order_products, on='order_id')\n",
    "\n",
    "# Now sample 10% of the data\n",
    "interaction_data = interaction_data.sample(frac=0.1, random_state=42)\n",
    "\n",
    "filtered_order_products = order_products[order_products['add_to_cart_order'] < 5]\n",
    "\n",
    "\n",
    "merged_data = pd.merge(filtered_order_products, orders, on='order_id', how='inner')\n",
    "\n",
    "merged_data = pd.merge(merged_data, products, on='product_id', how='inner')\n",
    "\n",
    "print(\"Shape of interaction_data:\", interaction_data.shape)\n",
    "print(interaction_data.head())\n",
    "\n",
    "interaction_data['user_id'] = interaction_data['user_id'].astype('category')\n",
    "interaction_data['product_id'] = interaction_data['product_id'].astype('category')\n",
    "\n",
    "valid_user_ids = merged_data['user_id'].between(0, merged_data['user_id'].max())\n",
    "valid_product_ids = merged_data['product_id'].between(0, merged_data['product_id'].max())\n",
    "\n",
    "filtered_data = merged_data[valid_user_ids & valid_product_ids]\n",
    "\n",
    "print(\"User ID range:\", merged_data['user_id'].min(), \"to\", merged_data['user_id'].max())\n",
    "print(\"Product ID range:\", merged_data['product_id'].min(), \"to\", merged_data['product_id'].max())\n"
   ]
  },
  {
   "cell_type": "code",
   "execution_count": 7,
   "metadata": {},
   "outputs": [
    {
     "name": "stdout",
     "output_type": "stream",
     "text": [
      "   order_id  product_id  add_to_cart_order  reordered  user_id eval_set  \\\n",
      "0         2       33120                  1          1   202279    prior   \n",
      "1         2       28985                  2          1   202279    prior   \n",
      "2         2        9327                  3          0   202279    prior   \n",
      "3         2       45918                  4          1   202279    prior   \n",
      "9         3       33754                  1          1   205970    prior   \n",
      "\n",
      "   order_number  order_dow  order_hour_of_day  days_since_prior_order  \\\n",
      "0             3          5                  9                     8.0   \n",
      "1             3          5                  9                     8.0   \n",
      "2             3          5                  9                     8.0   \n",
      "3             3          5                  9                     8.0   \n",
      "9            16          5                 17                    12.0   \n",
      "\n",
      "                                        product_name  aisle_id  department_id  \n",
      "0                                 Organic Egg Whites        86             16  \n",
      "1                              Michigan Organic Kale        83              4  \n",
      "2                                      Garlic Powder       104             13  \n",
      "3                                     Coconut Butter        19             13  \n",
      "9  Total 2% with Strawberry Lowfat Greek Strained...       120             16  \n",
      "Number of duplicates: 6183478\n"
     ]
    },
    {
     "data": {
      "text/html": [
       "<div>\n",
       "<style scoped>\n",
       "    .dataframe tbody tr th:only-of-type {\n",
       "        vertical-align: middle;\n",
       "    }\n",
       "\n",
       "    .dataframe tbody tr th {\n",
       "        vertical-align: top;\n",
       "    }\n",
       "\n",
       "    .dataframe thead th {\n",
       "        text-align: right;\n",
       "    }\n",
       "</style>\n",
       "<table border=\"1\" class=\"dataframe\">\n",
       "  <thead>\n",
       "    <tr style=\"text-align: right;\">\n",
       "      <th></th>\n",
       "      <th>order_id</th>\n",
       "      <th>product_id</th>\n",
       "      <th>add_to_cart_order</th>\n",
       "      <th>reordered</th>\n",
       "      <th>user_id</th>\n",
       "      <th>eval_set</th>\n",
       "      <th>order_number</th>\n",
       "      <th>order_dow</th>\n",
       "      <th>order_hour_of_day</th>\n",
       "      <th>days_since_prior_order</th>\n",
       "      <th>product_name</th>\n",
       "      <th>aisle_id</th>\n",
       "      <th>department_id</th>\n",
       "    </tr>\n",
       "  </thead>\n",
       "  <tbody>\n",
       "    <tr>\n",
       "      <th>61</th>\n",
       "      <td>8</td>\n",
       "      <td>23423</td>\n",
       "      <td>1</td>\n",
       "      <td>1</td>\n",
       "      <td>3107</td>\n",
       "      <td>prior</td>\n",
       "      <td>5</td>\n",
       "      <td>4</td>\n",
       "      <td>6</td>\n",
       "      <td>17.0</td>\n",
       "      <td>Original Hawaiian Sweet Rolls</td>\n",
       "      <td>43</td>\n",
       "      <td>3</td>\n",
       "    </tr>\n",
       "    <tr>\n",
       "      <th>333</th>\n",
       "      <td>40</td>\n",
       "      <td>10070</td>\n",
       "      <td>1</td>\n",
       "      <td>1</td>\n",
       "      <td>382</td>\n",
       "      <td>prior</td>\n",
       "      <td>29</td>\n",
       "      <td>1</td>\n",
       "      <td>15</td>\n",
       "      <td>23.0</td>\n",
       "      <td>Organic 1% Low Fat Milk</td>\n",
       "      <td>84</td>\n",
       "      <td>16</td>\n",
       "    </tr>\n",
       "    <tr>\n",
       "      <th>334</th>\n",
       "      <td>40</td>\n",
       "      <td>42450</td>\n",
       "      <td>2</td>\n",
       "      <td>1</td>\n",
       "      <td>382</td>\n",
       "      <td>prior</td>\n",
       "      <td>29</td>\n",
       "      <td>1</td>\n",
       "      <td>15</td>\n",
       "      <td>23.0</td>\n",
       "      <td>Macaroni &amp; Cheese</td>\n",
       "      <td>38</td>\n",
       "      <td>1</td>\n",
       "    </tr>\n",
       "    <tr>\n",
       "      <th>335</th>\n",
       "      <td>40</td>\n",
       "      <td>33198</td>\n",
       "      <td>3</td>\n",
       "      <td>1</td>\n",
       "      <td>382</td>\n",
       "      <td>prior</td>\n",
       "      <td>29</td>\n",
       "      <td>1</td>\n",
       "      <td>15</td>\n",
       "      <td>23.0</td>\n",
       "      <td>Sparkling Natural Mineral Water</td>\n",
       "      <td>115</td>\n",
       "      <td>7</td>\n",
       "    </tr>\n",
       "    <tr>\n",
       "      <th>336</th>\n",
       "      <td>40</td>\n",
       "      <td>34866</td>\n",
       "      <td>4</td>\n",
       "      <td>1</td>\n",
       "      <td>382</td>\n",
       "      <td>prior</td>\n",
       "      <td>29</td>\n",
       "      <td>1</td>\n",
       "      <td>15</td>\n",
       "      <td>23.0</td>\n",
       "      <td>Chocolate Milk 1% Milkfat</td>\n",
       "      <td>84</td>\n",
       "      <td>16</td>\n",
       "    </tr>\n",
       "  </tbody>\n",
       "</table>\n",
       "</div>"
      ],
      "text/plain": [
       "     order_id  product_id  add_to_cart_order  reordered  user_id eval_set  \\\n",
       "61          8       23423                  1          1     3107    prior   \n",
       "333        40       10070                  1          1      382    prior   \n",
       "334        40       42450                  2          1      382    prior   \n",
       "335        40       33198                  3          1      382    prior   \n",
       "336        40       34866                  4          1      382    prior   \n",
       "\n",
       "     order_number  order_dow  order_hour_of_day  days_since_prior_order  \\\n",
       "61              5          4                  6                    17.0   \n",
       "333            29          1                 15                    23.0   \n",
       "334            29          1                 15                    23.0   \n",
       "335            29          1                 15                    23.0   \n",
       "336            29          1                 15                    23.0   \n",
       "\n",
       "                        product_name  aisle_id  department_id  \n",
       "61     Original Hawaiian Sweet Rolls        43              3  \n",
       "333          Organic 1% Low Fat Milk        84             16  \n",
       "334                Macaroni & Cheese        38              1  \n",
       "335  Sparkling Natural Mineral Water       115              7  \n",
       "336        Chocolate Milk 1% Milkfat        84             16  "
      ]
     },
     "execution_count": 7,
     "metadata": {},
     "output_type": "execute_result"
    }
   ],
   "source": [
    "\n",
    "# Filter the merged data\n",
    "filtered_df = merged_df[merged_df['add_to_cart_order'] < 5]\n",
    "print(filtered_df.head())\n",
    "\n",
    "# Check for duplicates\n",
    "duplicates = filtered_data.duplicated(subset=['user_id', 'product_id'])\n",
    "print(f\"Number of duplicates: {duplicates.sum()}\")\n",
    "\n",
    "# Drop duplicates if any\n",
    "filtered_data = filtered_data.drop_duplicates(subset=['user_id', 'product_id'])\n",
    "\n",
    "# Optional: Limit to a subset of users and products\n",
    "filtered_df = filtered_df[filtered_df['user_id'] <= 10000]  # Adjust user limit\n",
    "filtered_df = filtered_df[filtered_df['product_id'] <= 60000]  # Adjust product limit\n",
    "\n",
    "filtered_df.head(5)\n",
    "\n"
   ]
  },
  {
   "cell_type": "code",
   "execution_count": 8,
   "metadata": {},
   "outputs": [
    {
     "name": "stdout",
     "output_type": "stream",
     "text": [
      "          order_id  product_id  add_to_cart_order  reordered  user_id  \\\n",
      "32433975   3421024       47766                  4          0     9166   \n",
      "32434377   3421068       16797                  1          0     7370   \n",
      "32434378   3421068       13176                  2          1     7370   \n",
      "32434379   3421068       42834                  3          0     7370   \n",
      "32434380   3421068        9387                  4          0     7370   \n",
      "\n",
      "         eval_set  order_number  order_dow  order_hour_of_day  \\\n",
      "32433975    prior             1          3                 12   \n",
      "32434377    prior             2          4                 16   \n",
      "32434378    prior             2          4                 16   \n",
      "32434379    prior             2          4                 16   \n",
      "32434380    prior             2          4                 16   \n",
      "\n",
      "          days_since_prior_order                 product_name  aisle_id  \\\n",
      "32433975                     NaN              Organic Avocado        24   \n",
      "32434377                    15.0                 Strawberries        24   \n",
      "32434378                    15.0       Bag of Organic Bananas        24   \n",
      "32434379                    15.0  Organic Mini Peeled Carrots       123   \n",
      "32434380                    15.0          Granny Smith Apples        24   \n",
      "\n",
      "          department_id  \n",
      "32433975              4  \n",
      "32434377              4  \n",
      "32434378              4  \n",
      "32434379              4  \n",
      "32434380              4  \n"
     ]
    },
    {
     "data": {
      "image/png": "[encoded data removed]",
      "text/plain": [
       "<Figure size 1000x600 with 1 Axes>"
      ]
     },
     "metadata": {},
     "output_type": "display_data"
    },
    {
     "data": {
      "image/png": "[encoded data removed]",
      "text/plain": [
       "<Figure size 1000x600 with 1 Axes>"
      ]
     },
     "metadata": {},
     "output_type": "display_data"
    }
   ],
   "source": [
    "\n",
    "# Extract the \"Banana\" row from the larger filtered dataset\n",
    "banana_row = filtered_df[filtered_df['product_name'] == 'Banana']  # Adjust column name as needed\n",
    "\n",
    "# Append it to filter_df\n",
    "filter_df = pd.concat([filtered_df, banana_row], ignore_index=True)\n",
    "\n",
    "# Verify the addition\n",
    "print(filtered_df.tail())\n",
    "\n",
    "import matplotlib.pyplot as plt\n",
    "top_products = filtered_data['product_name'].value_counts().head(10)\n",
    "\n",
    "# Plot the top products\n",
    "plt.figure(figsize=(10, 6))\n",
    "top_products.plot(kind='bar')\n",
    "plt.title('Top 10 Most Purchased Products')\n",
    "plt.xlabel('Product Name')\n",
    "plt.ylabel('Purchase Count')\n",
    "plt.xticks(rotation=45)\n",
    "plt.show()\n",
    "\n",
    "top_products = filtered_df['product_name'].value_counts().head(10)\n",
    "\n",
    "# Plot the top products\n",
    "plt.figure(figsize=(10, 6))\n",
    "top_products.plot(kind='bar')\n",
    "plt.title('Top 10 Most Purchased Products')\n",
    "plt.xlabel('Product Name')\n",
    "plt.ylabel('Purchase Count')\n",
    "plt.xticks(rotation=45)\n",
    "plt.show()\n"
   ]
  },
  {
   "cell_type": "code",
   "execution_count": 9,
   "metadata": {},
   "outputs": [
    {
     "name": "stdout",
     "output_type": "stream",
     "text": [
      "product_id  1      3      4      7      8      9      10     11     12     \\\n",
      "user_id                                                                     \n",
      "1             0.0    0.0    0.0    0.0    0.0    0.0    0.0    0.0    0.0   \n",
      "2             0.0    0.0    0.0    0.0    0.0    0.0    0.0    0.0    0.0   \n",
      "3             0.0    0.0    0.0    0.0    0.0    0.0    0.0    0.0    0.0   \n",
      "4             0.0    0.0    0.0    0.0    0.0    0.0    0.0    0.0    0.0   \n",
      "5             0.0    0.0    0.0    0.0    0.0    0.0    0.0    0.0    0.0   \n",
      "\n",
      "product_id  18     ...  49675  49677  49678  49679  49680  49681  49682  \\\n",
      "user_id            ...                                                    \n",
      "1             0.0  ...    0.0    0.0    0.0    0.0    0.0    0.0    0.0   \n",
      "2             0.0  ...    0.0    0.0    0.0    0.0    0.0    0.0    0.0   \n",
      "3             0.0  ...    0.0    0.0    0.0    0.0    0.0    0.0    0.0   \n",
      "4             0.0  ...    0.0    0.0    0.0    0.0    0.0    0.0    0.0   \n",
      "5             0.0  ...    0.0    0.0    0.0    0.0    0.0    0.0    0.0   \n",
      "\n",
      "product_id  49683  49685  49687  \n",
      "user_id                          \n",
      "1             0.0    0.0    0.0  \n",
      "2             0.0    0.0    0.0  \n",
      "3             4.0    0.0    0.0  \n",
      "4             0.0    0.0    0.0  \n",
      "5             0.0    0.0    0.0  \n",
      "\n",
      "[5 rows x 25863 columns]\n",
      "(10000, 25863)\n",
      "product_id  1      3      4      7      8      9      10     11     12     \\\n",
      "user_id                                                                     \n",
      "1             0.0    0.0    0.0    0.0    0.0    0.0    0.0    0.0    0.0   \n",
      "2             0.0    0.0    0.0    0.0    0.0    0.0    0.0    0.0    0.0   \n",
      "3             0.0    0.0    0.0    0.0    0.0    0.0    0.0    0.0    0.0   \n",
      "4             0.0    0.0    0.0    0.0    0.0    0.0    0.0    0.0    0.0   \n",
      "5             0.0    0.0    0.0    0.0    0.0    0.0    0.0    0.0    0.0   \n",
      "\n",
      "product_id  18     ...  49675  49677  49678  49679  49680  49681  49682  \\\n",
      "user_id            ...                                                    \n",
      "1             0.0  ...    0.0    0.0    0.0    0.0    0.0    0.0    0.0   \n",
      "2             0.0  ...    0.0    0.0    0.0    0.0    0.0    0.0    0.0   \n",
      "3             0.0  ...    0.0    0.0    0.0    0.0    0.0    0.0    0.0   \n",
      "4             0.0  ...    0.0    0.0    0.0    0.0    0.0    0.0    0.0   \n",
      "5             0.0  ...    0.0    0.0    0.0    0.0    0.0    0.0    0.0   \n",
      "\n",
      "product_id  49683  49685  49687  \n",
      "user_id                          \n",
      "1             0.0    0.0    0.0  \n",
      "2             0.0    0.0    0.0  \n",
      "3             4.0    0.0    0.0  \n",
      "4             0.0    0.0    0.0  \n",
      "5             0.0    0.0    0.0  \n",
      "\n",
      "[5 rows x 25863 columns]\n"
     ]
    }
   ],
   "source": [
    "\n",
    "# Create a user-item interaction matrix\n",
    "interaction_matrix = filtered_df.pivot_table(index='user_id',\n",
    "                                             columns='product_id',\n",
    "                                             values='add_to_cart_order',\n",
    "                                             fill_value=0)\n",
    "print(interaction_matrix.head())\n",
    "\n",
    "interaction_matrix = filtered_df.pivot_table(\n",
    "    index='user_id',\n",
    "    columns='product_id',\n",
    "    values='add_to_cart_order',\n",
    "    fill_value=0\n",
    ")\n",
    "\n",
    "print(interaction_matrix.shape)\n",
    "print(interaction_matrix.head())\n"
   ]
  },
  {
   "cell_type": "code",
   "execution_count": 10,
   "metadata": {},
   "outputs": [],
   "source": [
    "\n",
    "from scipy.sparse import csr_matrix\n",
    "sparse_matrix = csr_matrix(interaction_matrix.values)\n",
    "\n",
    "from sklearn.decomposition import TruncatedSVD\n",
    "svd = TruncatedSVD(n_components=100)  # Reduce to 100 latent factors\n",
    "reduced_matrix = svd.fit_transform(interaction_matrix)\n",
    "\n",
    "from sklearn.decomposition import TruncatedSVD\n",
    "import numpy as np\n",
    "# Convert the interaction matrix to a NumPy array\n",
    "matrix = interaction_matrix.values\n",
    "# Apply SVD\n",
    "svd = TruncatedSVD(n_components=20, random_state=42)  # Adjust components as needed\n",
    "user_factors = svd.fit_transform(matrix)\n",
    "item_factors = svd.components_"
   ]
  },
  {
   "cell_type": "code",
   "execution_count": 11,
   "metadata": {},
   "outputs": [],
   "source": [
    "\n",
    "# Reconstructed matrix\n",
    "reconstructed_matrix = np.dot(user_factors, item_factors)\n",
    "\n",
    "\n",
    "def recommend_items(user_idx, k=5, return_labels=True):\n",
    "    user_items = sparse_matrix[user_idx].toarray().flatten()\n",
    "    user_bought_items = np.where(user_items > 0)[0]\n",
    "\n",
    "    recommendations = {}\n",
    "    for item_idx in user_bought_items:\n",
    "        item_id = product_id_map[item_idx]\n",
    "        similar_items = get_similar_items(item_id, k)\n",
    "        for sim_item in similar_items:\n",
    "            if sim_item not in user_bought_items:\n",
    "                recommendations[sim_item] = recommendations.get(sim_item, 0) + item_similarity_df.loc[item_id, sim_item]\n",
    "\n",
    "    # Sort recommendations by similarity score\n",
    "    sorted_recommendations = sorted(recommendations.items(), key=lambda x: x[1], reverse=True)\n",
    "    top_k_recommendations = [item for item, _ in sorted_recommendations[:k]]\n",
    "\n",
    "    if return_labels:\n",
    "        # Map product IDs to product names\n",
    "        labeled_recommendations = products[products['product_id'].isin(top_k_recommendations)]['product_name'].tolist()\n",
    "        return labeled_recommendations\n",
    "    else:\n",
    "        return top_k_recommendations\n",
    "\n",
    "# Convert reconstructed matrix back to DataFrame\n",
    "reconstructed_df = pd.DataFrame(reconstructed_matrix,\n",
    "                                index=interaction_matrix.index,\n",
    "                                columns=interaction_matrix.columns)\n"
   ]
  },
  {
   "cell_type": "markdown",
   "metadata": {
    "id": "lWqLbmynLtob"
   },
   "source": [
    "Recommending Products"
   ]
  },
  {
   "cell_type": "code",
   "execution_count": 12,
   "metadata": {
    "id": "eeY5qdogLtoc",
    "outputId": "e68b7df7-1ca2-4151-b4ff-5aabfd80c65d"
   },
   "outputs": [
    {
     "name": "stdout",
     "output_type": "stream",
     "text": [
      "['Soda', 'Clementines', 'Hass Avocados', 'Organic Baby Carrots', 'Raspberries']\n"
     ]
    }
   ],
   "source": [
    "\n",
    "def recommend_products(user_id, top_n=5):\n",
    "    # Get the top N recommended product IDs based on the reconstructed matrix\n",
    "    user_scores = reconstructed_df.loc[user_id]\n",
    "    recommended_product_ids = user_scores.sort_values(ascending=False).head(top_n).index\n",
    "\n",
    "    # Map product IDs to product names using the products DataFrame\n",
    "    recommended_product_names = products[products['product_id'].isin(recommended_product_ids)]['product_name'].tolist()\n",
    "\n",
    "    return recommended_product_names\n",
    "\n",
    "\n",
    "# Example: Get top 5 recommended products for a user with user_id=15\n",
    "recommended_products = recommend_products(user_id=15, top_n=5)\n",
    "print(recommended_products)\n",
    "\n",
    "\n"
   ]
  },
  {
   "cell_type": "markdown",
   "metadata": {
    "id": "puVgYx3wLtoe"
   },
   "source": [
    "product recommended for top 5 users who buy the most \"Bananas\""
   ]
  },
  {
   "cell_type": "code",
   "execution_count": 13,
   "metadata": {
    "id": "ew7FXPYnLtoe",
    "outputId": "84ee88fb-1c60-4980-d0ad-3bac2f09112a"
   },
   "outputs": [
    {
     "name": "stdout",
     "output_type": "stream",
     "text": [
      "Recommended products for user 1563: ['Bag of Organic Bananas', 'Organic Fuji Apple', 'Organic Hass Avocado', 'Large Lemon', 'Organic Avocado']\n",
      "Recommended products for user 5665: ['Organic Strawberries', 'Banana', 'Organic Garlic', 'Organic Raspberries', 'Organic Hass Avocado']\n",
      "Recommended products for user 6175: ['Seedless Red Grapes', 'Banana', 'Organic Blueberries', 'Organic Baby Carrots', 'Organic Avocado']\n",
      "Recommended products for user 7600: ['Seedless Red Grapes', 'Organic Strawberries', 'Banana', 'Organic Fuji Apple', 'Organic Avocado']\n",
      "Recommended products for user 3255: ['Bag of Organic Bananas', 'Strawberries', 'Organic Fuji Apple', 'Organic Blueberries', 'Organic Avocado']\n"
     ]
    }
   ],
   "source": [
    "# Step 1: Identify users who bought the most \"Bananas\"\n",
    "banana_users = filtered_df[filtered_df['product_name'] == 'Banana']\n",
    "\n",
    "# Count the number of \"Bananas\" bought by each user\n",
    "banana_user_counts = banana_users['user_id'].value_counts()\n",
    "\n",
    "# Step 2: Get the top 5 users who bought the most \"Bananas\"\n",
    "top_5_banana_users = banana_user_counts.head(5).index\n",
    "\n",
    "# Step 3: Generate recommendations for the top 5 users\n",
    "recommended_products_per_user = {}\n",
    "for user_id in top_5_banana_users:\n",
    "    recommended_products = recommend_products(user_id, top_n=5)\n",
    "    print(f\"Recommended products for user {user_id}: {recommended_products}\")  # Debug line\n",
    "    recommended_products_per_user[user_id] = recommended_products\n",
    "\n",
    "\n"
   ]
  },
  {
   "cell_type": "code",
   "execution_count": null,
   "metadata": {},
   "outputs": [],
   "source": []
  },
  {
   "cell_type": "code",
   "execution_count": 14,
   "metadata": {
    "id": "ggWP7ocmLtof",
    "outputId": "7849e743-377c-4d4e-9e52-6dc940cab715"
   },
   "outputs": [
    {
     "name": "stdout",
     "output_type": "stream",
     "text": [
      "         user_id  order_dow\n",
      "784043     17726          4\n",
      "325893    198099          2\n",
      "643625      6436          6\n",
      "5173099   155973          6\n",
      "576706    137563          1\n"
     ]
    }
   ],
   "source": [
    "# Sample 1000 random user/user_dow combinations\n",
    "random_combinations = merged_data[['user_id', 'order_dow']].drop_duplicates().sample(n=1000, random_state=42)\n",
    "\n",
    "# Display a sample of the combinations\n",
    "print(random_combinations.head())\n"
   ]
  },
  {
   "cell_type": "code",
   "execution_count": 15,
   "metadata": {
    "id": "9tqZnQb9Ltog"
   },
   "outputs": [],
   "source": [
    "from surprise import SVD, Reader, Dataset\n",
    "from surprise.model_selection import train_test_split\n",
    "\n",
    "class SVDRecommender:\n",
    "    def __init__(self):\n",
    "        self.model = None\n",
    "\n",
    "    def fit(self, train_data):\n",
    "        reader = Reader(rating_scale=(0, 1))  # assuming 'reordered' is 0 or 1\n",
    "        data = Dataset.load_from_df(train_data[['user_id', 'product_id', 'reordered']], reader)\n",
    "        trainset = data.build_full_trainset()\n",
    "        self.model = SVD()\n",
    "        self.model.fit(trainset)\n",
    "\n",
    "    def predict(self, user_id, dow, test_data):\n",
    "        predictions = []\n",
    "        for _, row in test_data.iterrows():\n",
    "            predicted_rating = self.model.predict(row['user_id'], row['product_id']).est\n",
    "            predictions.append((row['product_id'], predicted_rating))\n",
    "\n",
    "        # Sort the predictions by rating and return top 5 products\n",
    "        predictions.sort(key=lambda x: x[1], reverse=True)\n",
    "        return [pred[0] for pred in predictions[:5]]\n",
    "\n",
    "# Create a recommender model instance\n",
    "model = SVDRecommender()\n",
    "\n"
   ]
  },
  {
   "cell_type": "code",
   "execution_count": 16,
   "metadata": {
    "id": "0xodh2aELtoh",
    "outputId": "00725db4-658b-4a18-d029-608866e868ba"
   },
   "outputs": [
    {
     "name": "stdout",
     "output_type": "stream",
     "text": [
      "MAP@5: 0.7734766666666694\n",
      "Recall@5: 0.6766049729560627\n"
     ]
    }
   ],
   "source": [
    "from sklearn.metrics import average_precision_score\n",
    "from collections import defaultdict\n",
    "\n",
    "def evaluate_model_on_combination(merged_data, random_combinations, model):\n",
    "    map_scores = []\n",
    "    recall_scores = []\n",
    "\n",
    "    # Loop through each random combination of user_id and dow\n",
    "    for idx, (user_id, dow) in random_combinations.iterrows():\n",
    "        # Filter the training data based on user_id and dow\n",
    "        train_data = merged_data[(merged_data['user_id'] == user_id) & (merged_data['order_dow'] == dow)]\n",
    "        test_data = merged_data[(merged_data['user_id'] == user_id) & (merged_data['order_dow'] == dow)]\n",
    "\n",
    "        # Fit the model on the training data\n",
    "        model.fit(train_data)\n",
    "\n",
    "        # Get the top 5 recommendations\n",
    "        recommended_products = model.predict(user_id, dow, test_data)\n",
    "\n",
    "        # Get the actual products the user interacted with on this dow\n",
    "        actual_products = test_data[test_data['reordered'] == 1]['product_id'].tolist()\n",
    "\n",
    "        # Calculate MAP@5\n",
    "        if len(recommended_products) > 0:\n",
    "            relevant_products = [1 if prod in actual_products else 0 for prod in recommended_products]\n",
    "            precision_at_k = [sum(relevant_products[:k]) / k for k in range(1, 6)]\n",
    "            average_precision = sum(precision_at_k) / len(precision_at_k)\n",
    "            map_scores.append(average_precision)\n",
    "\n",
    "        # Calculate Recall@5\n",
    "        relevant_in_top5 = sum(1 for prod in recommended_products if prod in actual_products)\n",
    "        recall_at_k = relevant_in_top5 / len(actual_products) if len(actual_products) > 0 else 0\n",
    "        recall_scores.append(recall_at_k)\n",
    "\n",
    "    # Calculate average MAP@5 and Recall@5\n",
    "    mean_map = sum(map_scores) / len(map_scores) if map_scores else 0\n",
    "    mean_recall = sum(recall_scores) / len(recall_scores) if recall_scores else 0\n",
    "\n",
    "    return mean_map, mean_recall\n",
    "\n",
    "# Now you can evaluate the model\n",
    "mean_map, mean_recall = evaluate_model_on_combination(merged_data, random_combinations, model)\n",
    "\n",
    "# Print the results\n",
    "print(f\"MAP@5: {mean_map}\")\n",
    "print(f\"Recall@5: {mean_recall}\")\n"
   ]
  },
  {
   "cell_type": "code",
   "execution_count": 17,
   "metadata": {
    "id": "QF2xB0Z6Ltoi"
   },
   "outputs": [],
   "source": [
    "# Now you can proceed with evaluating the model\n",
    "results = evaluate_model_on_combination(merged_data, random_combinations, model)\n"
   ]
  },
  {
   "cell_type": "code",
   "execution_count": 18,
   "metadata": {
    "id": "pJ33dk0OLtoi",
    "outputId": "4418dc4e-3493-486f-cf9c-378f85e2b1c2"
   },
   "outputs": [],
   "source": [
    "from surprise import SVD, Reader, Dataset\n",
    "from collections import defaultdict\n",
    "import pandas as pd\n",
    "\n",
    "# Assume `merged_data` contains the necessary data\n",
    "\n",
    "class SVDRecommender:\n",
    "    def __init__(self):\n",
    "        self.model = None\n",
    "\n",
    "    def fit(self, train_data):\n",
    "        reader = Reader(rating_scale=(0, 1))  # Assuming 'reordered' is 0 or 1\n",
    "        data = Dataset.load_from_df(train_data[['user_id', 'product_id', 'reordered']], reader)\n",
    "        trainset = data.build_full_trainset()\n",
    "        self.model = SVD()\n",
    "        self.model.fit(trainset)\n",
    "\n",
    "    def predict(self, user_id, dow, test_data):\n",
    "        predictions = []\n",
    "        for _, row in test_data.iterrows():\n",
    "            predicted_rating = self.model.predict(row['user_id'], row['product_id']).est\n",
    "            predictions.append((row['product_id'], predicted_rating))\n",
    "\n",
    "        # Sort the predictions by rating and return top 5 products\n",
    "        predictions.sort(key=lambda x: x[1], reverse=True)\n",
    "        return [pred[0] for pred in predictions[:5]]\n",
    "\n"
   ]
  },
  {
   "cell_type": "code",
   "execution_count": 19,
   "metadata": {},
   "outputs": [],
   "source": [
    "\n",
    "def evaluate_recall_on_combination(merged_data, random_combinations, model, strong_generalization=True):\n",
    "    recall_scores = []\n",
    "\n",
    "    for idx, (user_id, dow) in random_combinations.iterrows():\n",
    "        # Filter the data for the given user_id and dow\n",
    "        user_data = merged_data[(merged_data['user_id'] == user_id) & (merged_data['order_dow'] == dow)]\n",
    "\n",
    "        if len(user_data) < 2:\n",
    "            continue  # Skip if there's not enough data for cross-validation\n",
    "\n",
    "        # For Rolling Cross-Validation on Order ID\n",
    "        user_data_sorted = user_data.sort_values(by='order_id')\n",
    "\n",
    "        # Strong Generalization: Train on previous orders and test on the next\n",
    "        if strong_generalization:\n",
    "            for i in range(1, len(user_data_sorted)):\n",
    "                train_data = user_data_sorted.iloc[:i]\n",
    "                test_data = user_data_sorted.iloc[i:i+1]\n",
    "                model.fit(train_data)\n",
    "                recommended_products = model.predict(user_id, dow, test_data)\n",
    "\n",
    "                # Get the actual products the user interacted with on this dow\n",
    "                actual_products = test_data[test_data['reordered'] == 1]['product_id'].tolist()\n",
    "\n",
    "                # Calculate Recall@5\n",
    "                relevant_in_top5 = sum(1 for prod in recommended_products if prod in actual_products)\n",
    "                recall_at_k = relevant_in_top5 / len(actual_products) if len(actual_products) > 0 else 0\n",
    "                recall_scores.append(recall_at_k)\n",
    "\n",
    "        # Weak Generalization: Train on a small window of recent orders\n",
    "        else:\n",
    "            for i in range(len(user_data_sorted) - 1):\n",
    "                train_data = user_data_sorted.iloc[i:i+1]  # Training on just one previous order\n",
    "                test_data = user_data_sorted.iloc[i+1:i+2]  # Testing on the next order\n",
    "                model.fit(train_data)\n",
    "                recommended_products = model.predict(user_id, dow, test_data)\n",
    "\n",
    "                # Get the actual products the user interacted with on this dow\n",
    "                actual_products = test_data[test_data['reordered'] == 1]['product_id'].tolist()\n",
    "\n",
    "                # Calculate Recall@5\n",
    "                relevant_in_top5 = sum(1 for prod in recommended_products if prod in actual_products)\n",
    "                recall_at_k = relevant_in_top5 / len(actual_products) if len(actual_products) > 0 else 0\n",
    "                recall_scores.append(recall_at_k)\n",
    "\n",
    "    # Calculate average Recall@5\n",
    "    mean_recall = sum(recall_scores) / len(recall_scores) if recall_scores else 0\n",
    "\n",
    "    return mean_recall\n"
   ]
  },
  {
   "cell_type": "code",
   "execution_count": 20,
   "metadata": {},
   "outputs": [
    {
     "name": "stdout",
     "output_type": "stream",
     "text": [
      "Recall@5 (Strong Generalization): 0.6765796052064477\n",
      "Recall@5 (Weak Generalization): 0.6765796052064477\n"
     ]
    }
   ],
   "source": [
    "\n",
    "\n",
    "# Sample 1000 random user/dow combinations\n",
    "random_combinations = merged_data[['user_id', 'order_dow']].drop_duplicates().sample(n=1000, random_state=42)\n",
    "\n",
    "# Create a recommender model instance\n",
    "model = SVDRecommender()\n",
    "\n",
    "# Evaluate Recall@5 for strong generalization\n",
    "recall_strong = evaluate_recall_on_combination(merged_data, random_combinations, model, strong_generalization=True)\n",
    "\n",
    "# Evaluate Recall@5 for weak generalization\n",
    "recall_weak = evaluate_recall_on_combination(merged_data, random_combinations, model, strong_generalization=False)\n",
    "\n",
    "# Print the results\n",
    "print(f\"Recall@5 (Strong Generalization): {recall_strong}\")\n",
    "print(f\"Recall@5 (Weak Generalization): {recall_weak}\")\n"
   ]
  },
  {
   "cell_type": "code",
   "execution_count": 21,
   "metadata": {},
   "outputs": [
    {
     "name": "stdout",
     "output_type": "stream",
     "text": [
      "Model and data saved successfully!\n"
     ]
    }
   ],
   "source": [
    "import pickle\n",
    "\n",
    "# Save interaction_matrix, reconstructed_matrix, user_factors, item_factors, and any other key data\n",
    "save_data = {\n",
    "    'interaction_matrix': interaction_matrix,\n",
    "    'reconstructed_matrix': reconstructed_matrix,\n",
    "    'user_factors': user_factors,\n",
    "    'item_factors': item_factors,\n",
    "    'product_id_map': product_id_map if 'product_id_map' in locals() else None,\n",
    "    'item_similarity_df': item_similarity_df if 'item_similarity_df' in locals() else None\n",
    "}\n",
    "\n",
    "# Save to a file\n",
    "with open('recommender_model.pkl', 'wb') as file:\n",
    "    pickle.dump(save_data, file)\n",
    "\n",
    "print(\"Model and data saved successfully!\")\n"
   ]
  },
  {
   "cell_type": "markdown",
   "metadata": {
    "id": "VNAF7hN0Ltoj"
   },
   "source": [
    "Strong Generalization Recall@5: This indicates how well the model performs when generalizing to unseen data or new scenarios, demonstrating that it can predict relevant items effectively even when presented with fresh, unseen data. The value of 0.6766 suggests that the model is moderately effective in providing relevant recommendations from a set of five items.\n",
    "\n",
    "Weak Generalization Recall@5: This refers to how well the model performs on data it has already seen or is more familiar with, meaning it might rely on previously observed patterns. The same value of 0.6766 in this case suggests that the model is just as effective with familiar data as it is with unseen data."
   ]
  }
 ],
 "metadata": {
  "colab": {
   "provenance": []
  },
  "kernelspec": {
   "display_name": "Python 3",
   "language": "python",
   "name": "python3"
  },
  "language_info": {
   "codemirror_mode": {
    "name": "ipython",
    "version": 3
   },
   "file_extension": ".py",
   "mimetype": "text/x-python",
   "name": "python",
   "nbconvert_exporter": "python",
   "pygments_lexer": "ipython3",
   "version": "3.11.9"
  }
 },
 "nbformat": 4,
 "nbformat_minor": 0
}
